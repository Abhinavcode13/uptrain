{
 "cells": [
  {
   "cell_type": "code",
   "execution_count": 1,
   "metadata": {},
   "outputs": [],
   "source": [
    "import numpy as np\n",
    "import matplotlib.pyplot as plt\n",
    "import uptrain\n",
    "import cv2\n",
    "import tensorflow as tf\n",
    "from tensorflow import keras\n",
    "import os"
   ]
  },
  {
   "cell_type": "code",
   "execution_count": 2,
   "metadata": {},
   "outputs": [],
   "source": [
    "def load_images(path):\n",
    "    list_dir = os.listdir(path)\n",
    "    img,label = [],[]\n",
    "    for i in list_dir:\n",
    "        image_dir = os.listdir(path+i)\n",
    "        for paths in image_dir:\n",
    "            image = cv2.cvtColor(cv2.imread(path+i+\"\\\\\"+paths),cv2.COLOR_BGR2GRAY)\n",
    "            img.append(image)\n",
    "            label.append(int(i))\n",
    "    return np.array(img),np.array(label)\n"
   ]
  },
  {
   "cell_type": "code",
   "execution_count": 3,
   "metadata": {},
   "outputs": [],
   "source": [
    "img,labels = load_images(\"C:\\\\Users\\\\Lenovo\\\\OneDrive\\\\Desktop\\\\MNIST USING Uptrain\\\\MNIST Dataset\\\\trainingSet\\\\\")"
   ]
  },
  {
   "cell_type": "code",
   "execution_count": 4,
   "metadata": {},
   "outputs": [],
   "source": [
    "from keras.models import Sequential\n",
    "from keras.layers import Conv2D,Dense,Dropout,Flatten\n",
    "model = Sequential([\n",
    "    Conv2D(128,(3,3),activation = 'relu',input_shape = (28,28,1)),\n",
    "    Conv2D(64,(3,3),activation='relu'),\n",
    "    Conv2D(32,(3,3),activation='relu'),\n",
    "    Flatten(),\n",
    "    Dense(128,activation = 'relu'),\n",
    "    Dense(64,activation = 'relu'),\n",
    "    Dense(32,activation = 'relu'),\n",
    "    Dense(10,activation = 'softmax')\n",
    "])\n",
    "model.compile(optimizer='adam',loss = tf.keras.losses.SparseCategoricalCrossentropy(),metrics=['accuracy'])"
   ]
  },
  {
   "cell_type": "code",
   "execution_count": 5,
   "metadata": {},
   "outputs": [
    {
     "name": "stdout",
     "output_type": "stream",
     "text": [
      "Model: \"sequential\"\n",
      "_________________________________________________________________\n",
      " Layer (type)                Output Shape              Param #   \n",
      "=================================================================\n",
      " conv2d (Conv2D)             (None, 26, 26, 128)       1280      \n",
      "                                                                 \n",
      " conv2d_1 (Conv2D)           (None, 24, 24, 64)        73792     \n",
      "                                                                 \n",
      " conv2d_2 (Conv2D)           (None, 22, 22, 32)        18464     \n",
      "                                                                 \n",
      " flatten (Flatten)           (None, 15488)             0         \n",
      "                                                                 \n",
      " dense (Dense)               (None, 128)               1982592   \n",
      "                                                                 \n",
      " dense_1 (Dense)             (None, 64)                8256      \n",
      "                                                                 \n",
      " dense_2 (Dense)             (None, 32)                2080      \n",
      "                                                                 \n",
      " dense_3 (Dense)             (None, 10)                330       \n",
      "                                                                 \n",
      "=================================================================\n",
      "Total params: 2,086,794\n",
      "Trainable params: 2,086,794\n",
      "Non-trainable params: 0\n",
      "_________________________________________________________________\n"
     ]
    }
   ],
   "source": [
    "model.summary()"
   ]
  },
  {
   "cell_type": "code",
   "execution_count": 6,
   "metadata": {},
   "outputs": [],
   "source": [
    "from sklearn.model_selection import train_test_split\n",
    "img = img.reshape(42000,28,28,1)\n",
    "labels = labels.reshape(42000,1)\n",
    "Xtrain,Xtest,ytrain,ytest = train_test_split(img,labels,test_size = 0.2,shuffle=True)"
   ]
  },
  {
   "cell_type": "code",
   "execution_count": 10,
   "metadata": {},
   "outputs": [],
   "source": [
    "import json\n",
    "train_data = []\n",
    "for i in range(len(Xtrain)):\n",
    "    train_data.append({\n",
    "         \"kps\": Xtrain[i].tolist(),\n",
    "         \"label\": ytrain[i].tolist()\n",
    "     })\n",
    "test_data = []\n",
    "for i in range(len(Xtest)):\n",
    "    test_data.append({\n",
    "         \"kps\": Xtest[i].tolist(),\n",
    "         \"label\": ytest [i].tolist()\n",
    "     })\n",
    "with open('train_set.json','w') as fp:\n",
    "    json.dump(train_data,fp)\n",
    "with open('test_set.json','w') as fp1:\n",
    "    json.dump(test_data,fp1)"
   ]
  },
  {
   "cell_type": "code",
   "execution_count": 11,
   "metadata": {},
   "outputs": [],
   "source": [
    "for i in range(len(Xtrain)):\n",
    "    train_data[i]['kps'] = np.array(train_data[i]['kps']).reshape(28*28)\n",
    "for i in range(len(Xtest)):\n",
    "    test_data[i]['kps'] = np.array(test_data[i]['kps']).reshape(28*28)\n"
   ]
  },
  {
   "cell_type": "code",
   "execution_count": 12,
   "metadata": {},
   "outputs": [
    {
     "name": "stdout",
     "output_type": "stream",
     "text": [
      "1050/1050 [==============================] - 102s 97ms/step - loss: 0.1283 - accuracy: 0.9613\n"
     ]
    },
    {
     "data": {
      "text/plain": [
       "<keras.callbacks.History at 0x29f0761f580>"
      ]
     },
     "execution_count": 12,
     "metadata": {},
     "output_type": "execute_result"
    }
   ],
   "source": [
    "model.fit(Xtrain,ytrain)"
   ]
  },
  {
   "cell_type": "code",
   "execution_count": 13,
   "metadata": {},
   "outputs": [],
   "source": [
    "Xtest = Xtest.reshape(8400,28,28,1)"
   ]
  },
  {
   "cell_type": "code",
   "execution_count": 14,
   "metadata": {},
   "outputs": [
    {
     "name": "stdout",
     "output_type": "stream",
     "text": [
      "263/263 [==============================] - 4s 14ms/step\n"
     ]
    },
    {
     "data": {
      "text/plain": [
       "98.02380952380952"
      ]
     },
     "execution_count": 14,
     "metadata": {},
     "output_type": "execute_result"
    }
   ],
   "source": [
    "pred = model.predict(Xtest)\n",
    "pred = np.argmax(pred,axis=1)\n",
    "count = 0\n",
    "for preds,ytests in zip(pred,ytest):\n",
    "    if(preds == ytests):\n",
    "        count+=1\n",
    "(count/len(Xtest))*100"
   ]
  },
  {
   "cell_type": "code",
   "execution_count": 15,
   "metadata": {},
   "outputs": [],
   "source": [
    "checks = [\n",
    "    {\n",
    "        'type':uptrain.Anomaly.DATA_DRIFT,\n",
    "        'reference_dataset':'train_set.json',\n",
    "        'is_embedding':False,\n",
    "        'measurable_args':{\n",
    "            'type': uptrain.MeasurableType.INPUT_FEATURE,\n",
    "            'feature_name': 'kps'\n",
    "        },\n",
    "    }\n",
    "]"
   ]
  },
  {
   "cell_type": "code",
   "execution_count": 23,
   "metadata": {},
   "outputs": [],
   "source": [
    "training_args = {\n",
    "    'training_func':model,\n",
    "    'orig_training_file':'train_set.json'\n",
    "}\n",
    "evaluation_args = {\n",
    "    'inference_func':tf.keras.metrics.Accuracy(),\n",
    "    'golden_testing_dataset':'test_set.json'\n",
    "}\n",
    "cfg = {\n",
    "    'checks':checks,\n",
    "    'training_arg':training_args,\n",
    "    'evaluation_args':evaluation_args,\n",
    "    'retrain_after':200,\n",
    "    'retraining_data':\"uptrain_data\"\n",
    "}\n"
   ]
  },
  {
   "cell_type": "code",
   "execution_count": 24,
   "metadata": {},
   "outputs": [
    {
     "name": "stdout",
     "output_type": "stream",
     "text": [
      "Deleting the folder:  uptrain_smart_data\n"
     ]
    }
   ],
   "source": [
    "framework = uptrain.Framework(cfg)"
   ]
  },
  {
   "cell_type": "code",
   "execution_count": 40,
   "metadata": {},
   "outputs": [
    {
     "name": "stdout",
     "output_type": "stream",
     "text": [
      "1/1 [==============================] - 0s 28ms/step\n"
     ]
    },
    {
     "ename": "ValueError",
     "evalue": "object too deep for desired array",
     "output_type": "error",
     "traceback": [
      "\u001b[1;31m---------------------------------------------------------------------------\u001b[0m",
      "\u001b[1;31mValueError\u001b[0m                                Traceback (most recent call last)",
      "Cell \u001b[1;32mIn[40], line 11\u001b[0m\n\u001b[0;32m      8\u001b[0m prediction \u001b[39m=\u001b[39m np\u001b[39m.\u001b[39marray(np\u001b[39m.\u001b[39margmax(p,axis\u001b[39m=\u001b[39m\u001b[39m1\u001b[39m))\n\u001b[0;32m      9\u001b[0m \u001b[39m#print(prediction)\u001b[39;00m\n\u001b[0;32m     10\u001b[0m \u001b[39m#print(labels)\u001b[39;00m\n\u001b[1;32m---> 11\u001b[0m idens \u001b[39m=\u001b[39m framework\u001b[39m.\u001b[39;49mlog(inputs \u001b[39m=\u001b[39;49m inputs,outputs\u001b[39m=\u001b[39;49mprediction)\n\u001b[0;32m     12\u001b[0m \u001b[39mif\u001b[39;00m framework\u001b[39m.\u001b[39mversion \u001b[39m>\u001b[39m \u001b[39m1\u001b[39m:\n\u001b[0;32m     13\u001b[0m     \u001b[39mbreak\u001b[39;00m\n",
      "File \u001b[1;32mc:\\Users\\Lenovo\\anaconda3\\envs\\tensorflow\\lib\\site-packages\\uptrain\\core\\classes\\framework.py:379\u001b[0m, in \u001b[0;36mFramework.log\u001b[1;34m(self, inputs, outputs, gts, identifiers, extra)\u001b[0m\n\u001b[0;32m    376\u001b[0m     \u001b[39mraise\u001b[39;00m \u001b[39mException\u001b[39;00m(\u001b[39m\"\u001b[39m\u001b[39mIdentifiers should be present while logging ground truths\u001b[39m\u001b[39m\"\u001b[39m)\n\u001b[0;32m    378\u001b[0m \u001b[39mif\u001b[39;00m inputs \u001b[39mis\u001b[39;00m \u001b[39mnot\u001b[39;00m \u001b[39mNone\u001b[39;00m:\n\u001b[1;32m--> 379\u001b[0m     identifiers \u001b[39m=\u001b[39m \u001b[39mself\u001b[39;49m\u001b[39m.\u001b[39;49mcheck_and_add_data(inputs, outputs)\n\u001b[0;32m    381\u001b[0m \u001b[39mif\u001b[39;00m gts \u001b[39mis\u001b[39;00m \u001b[39mnot\u001b[39;00m \u001b[39mNone\u001b[39;00m:\n\u001b[0;32m    382\u001b[0m     \u001b[39mself\u001b[39m\u001b[39m.\u001b[39mattach_ground_truth({\u001b[39m\"\u001b[39m\u001b[39mid\u001b[39m\u001b[39m\"\u001b[39m: identifiers, \u001b[39m\"\u001b[39m\u001b[39mgt\u001b[39m\u001b[39m\"\u001b[39m: gts})\n",
      "File \u001b[1;32mc:\\Users\\Lenovo\\anaconda3\\envs\\tensorflow\\lib\\site-packages\\uptrain\\core\\classes\\framework.py:204\u001b[0m, in \u001b[0;36mFramework.check_and_add_data\u001b[1;34m(self, inputs, outputs, gts, extra_args)\u001b[0m\n\u001b[0;32m    201\u001b[0m add_data_to_warehouse(deepcopy(data), \u001b[39mself\u001b[39m\u001b[39m.\u001b[39mpath_all_data)\n\u001b[0;32m    203\u001b[0m \u001b[39m# Check for any anomalies\u001b[39;00m\n\u001b[1;32m--> 204\u001b[0m \u001b[39mself\u001b[39;49m\u001b[39m.\u001b[39;49mcheck(data, extra_args)\n\u001b[0;32m    205\u001b[0m \u001b[39mself\u001b[39m\u001b[39m.\u001b[39mpredicted_count \u001b[39m+\u001b[39m\u001b[39m=\u001b[39m \u001b[39mself\u001b[39m\u001b[39m.\u001b[39mbatch_size\n\u001b[0;32m    207\u001b[0m \u001b[39m# Smartly add data for retraining\u001b[39;00m\n",
      "File \u001b[1;32mc:\\Users\\Lenovo\\anaconda3\\envs\\tensorflow\\lib\\site-packages\\uptrain\\core\\classes\\framework.py:214\u001b[0m, in \u001b[0;36mFramework.check\u001b[1;34m(self, data, extra_args)\u001b[0m\n\u001b[0;32m    212\u001b[0m \u001b[39mdef\u001b[39;00m \u001b[39mcheck\u001b[39m(\u001b[39mself\u001b[39m, data, extra_args\u001b[39m=\u001b[39m{}):\n\u001b[0;32m    213\u001b[0m     extra_args\u001b[39m.\u001b[39mupdate({\u001b[39m\"\u001b[39m\u001b[39mid\u001b[39m\u001b[39m\"\u001b[39m: data[\u001b[39m\"\u001b[39m\u001b[39mid\u001b[39m\u001b[39m\"\u001b[39m]})\n\u001b[1;32m--> 214\u001b[0m     \u001b[39mself\u001b[39;49m\u001b[39m.\u001b[39;49manomaly_manager\u001b[39m.\u001b[39;49mcheck(\n\u001b[0;32m    215\u001b[0m         data[\u001b[39m\"\u001b[39;49m\u001b[39mdata\u001b[39;49m\u001b[39m\"\u001b[39;49m],\n\u001b[0;32m    216\u001b[0m         data[\u001b[39m\"\u001b[39;49m\u001b[39moutput\u001b[39;49m\u001b[39m\"\u001b[39;49m],\n\u001b[0;32m    217\u001b[0m         gts\u001b[39m=\u001b[39;49mdata[\u001b[39m\"\u001b[39;49m\u001b[39mgt\u001b[39;49m\u001b[39m\"\u001b[39;49m],\n\u001b[0;32m    218\u001b[0m         extra_args\u001b[39m=\u001b[39;49mextra_args,\n\u001b[0;32m    219\u001b[0m     )\n",
      "File \u001b[1;32mc:\\Users\\Lenovo\\anaconda3\\envs\\tensorflow\\lib\\site-packages\\uptrain\\core\\classes\\anomalies\\managers\\anomaly_manager.py:84\u001b[0m, in \u001b[0;36mAnomalyManager.check\u001b[1;34m(self, inputs, outputs, gts, extra_args)\u001b[0m\n\u001b[0;32m     82\u001b[0m \u001b[39mfor\u001b[39;00m anomaly \u001b[39min\u001b[39;00m \u001b[39mself\u001b[39m\u001b[39m.\u001b[39manomalies_to_check:\n\u001b[0;32m     83\u001b[0m     \u001b[39mif\u001b[39;00m anomaly\u001b[39m.\u001b[39mneed_ground_truth() \u001b[39m==\u001b[39m (gts[\u001b[39m0\u001b[39m] \u001b[39mis\u001b[39;00m \u001b[39mnot\u001b[39;00m \u001b[39mNone\u001b[39;00m):\n\u001b[1;32m---> 84\u001b[0m         anomaly\u001b[39m.\u001b[39;49mcheck(inputs, outputs, gts\u001b[39m=\u001b[39;49mgts, extra_args\u001b[39m=\u001b[39;49mextra_args)\n",
      "File \u001b[1;32mc:\\Users\\Lenovo\\anaconda3\\envs\\tensorflow\\lib\\site-packages\\uptrain\\core\\classes\\anomalies\\data_drift.py:91\u001b[0m, in \u001b[0;36mDataDrift.check\u001b[1;34m(self, inputs, outputs, gts, extra_args)\u001b[0m\n\u001b[0;32m     89\u001b[0m this_datapoint_cluster \u001b[39m=\u001b[39m []\n\u001b[0;32m     90\u001b[0m \u001b[39mfor\u001b[39;00m idx \u001b[39min\u001b[39;00m \u001b[39mrange\u001b[39m(\u001b[39mself\u001b[39m\u001b[39m.\u001b[39mfeats\u001b[39m.\u001b[39mshape[\u001b[39m2\u001b[39m]):\n\u001b[1;32m---> 91\u001b[0m     bucket_idx \u001b[39m=\u001b[39m np\u001b[39m.\u001b[39;49msearchsorted(\n\u001b[0;32m     92\u001b[0m         \u001b[39mself\u001b[39;49m\u001b[39m.\u001b[39;49mbuckets[idx], \u001b[39mself\u001b[39;49m\u001b[39m.\u001b[39;49mfeats[:, :, idx]\n\u001b[0;32m     93\u001b[0m     )[:, \u001b[39m0\u001b[39m]\n\u001b[0;32m     94\u001b[0m     this_datapoint_cluster\u001b[39m.\u001b[39mappend(bucket_idx)\n\u001b[0;32m     95\u001b[0m     \u001b[39mself\u001b[39m\u001b[39m.\u001b[39mprod_dist_counts[idx][bucket_idx] \u001b[39m+\u001b[39m\u001b[39m=\u001b[39m \u001b[39m1\u001b[39m\n",
      "File \u001b[1;32m<__array_function__ internals>:200\u001b[0m, in \u001b[0;36msearchsorted\u001b[1;34m(*args, **kwargs)\u001b[0m\n",
      "File \u001b[1;32mc:\\Users\\Lenovo\\anaconda3\\envs\\tensorflow\\lib\\site-packages\\numpy\\core\\fromnumeric.py:1413\u001b[0m, in \u001b[0;36msearchsorted\u001b[1;34m(a, v, side, sorter)\u001b[0m\n\u001b[0;32m   1345\u001b[0m \u001b[39m@array_function_dispatch\u001b[39m(_searchsorted_dispatcher)\n\u001b[0;32m   1346\u001b[0m \u001b[39mdef\u001b[39;00m \u001b[39msearchsorted\u001b[39m(a, v, side\u001b[39m=\u001b[39m\u001b[39m'\u001b[39m\u001b[39mleft\u001b[39m\u001b[39m'\u001b[39m, sorter\u001b[39m=\u001b[39m\u001b[39mNone\u001b[39;00m):\n\u001b[0;32m   1347\u001b[0m     \u001b[39m\"\"\"\u001b[39;00m\n\u001b[0;32m   1348\u001b[0m \u001b[39m    Find indices where elements should be inserted to maintain order.\u001b[39;00m\n\u001b[0;32m   1349\u001b[0m \n\u001b[1;32m   (...)\u001b[0m\n\u001b[0;32m   1411\u001b[0m \n\u001b[0;32m   1412\u001b[0m \u001b[39m    \"\"\"\u001b[39;00m\n\u001b[1;32m-> 1413\u001b[0m     \u001b[39mreturn\u001b[39;00m _wrapfunc(a, \u001b[39m'\u001b[39;49m\u001b[39msearchsorted\u001b[39;49m\u001b[39m'\u001b[39;49m, v, side\u001b[39m=\u001b[39;49mside, sorter\u001b[39m=\u001b[39;49msorter)\n",
      "File \u001b[1;32mc:\\Users\\Lenovo\\anaconda3\\envs\\tensorflow\\lib\\site-packages\\numpy\\core\\fromnumeric.py:57\u001b[0m, in \u001b[0;36m_wrapfunc\u001b[1;34m(obj, method, *args, **kwds)\u001b[0m\n\u001b[0;32m     54\u001b[0m     \u001b[39mreturn\u001b[39;00m _wrapit(obj, method, \u001b[39m*\u001b[39margs, \u001b[39m*\u001b[39m\u001b[39m*\u001b[39mkwds)\n\u001b[0;32m     56\u001b[0m \u001b[39mtry\u001b[39;00m:\n\u001b[1;32m---> 57\u001b[0m     \u001b[39mreturn\u001b[39;00m bound(\u001b[39m*\u001b[39margs, \u001b[39m*\u001b[39m\u001b[39m*\u001b[39mkwds)\n\u001b[0;32m     58\u001b[0m \u001b[39mexcept\u001b[39;00m \u001b[39mTypeError\u001b[39;00m:\n\u001b[0;32m     59\u001b[0m     \u001b[39m# A TypeError occurs if the object does have such a method in its\u001b[39;00m\n\u001b[0;32m     60\u001b[0m     \u001b[39m# class, but its signature is not identical to that of NumPy's. This\u001b[39;00m\n\u001b[1;32m   (...)\u001b[0m\n\u001b[0;32m     64\u001b[0m     \u001b[39m# Call _wrapit from within the except clause to ensure a potential\u001b[39;00m\n\u001b[0;32m     65\u001b[0m     \u001b[39m# exception has a traceback chain.\u001b[39;00m\n\u001b[0;32m     66\u001b[0m     \u001b[39mreturn\u001b[39;00m _wrapit(obj, method, \u001b[39m*\u001b[39margs, \u001b[39m*\u001b[39m\u001b[39m*\u001b[39mkwds)\n",
      "\u001b[1;31mValueError\u001b[0m: object too deep for desired array"
     ]
    }
   ],
   "source": [
    "for tests,labels in zip(Xtest,ytest):\n",
    "    tests = tests.reshape(1,28,28,1)\n",
    "    labels = labels.reshape(1,1)\n",
    "    inputs = {\"data\": {\"kps\": tests}, \"id\": labels}\n",
    "    #print(labels.shape)\n",
    "    p = model.predict(tests)\n",
    "    #print(p)\n",
    "    prediction = np.array(np.argmax(p,axis=1))\n",
    "    #print(prediction)\n",
    "    #print(labels)\n",
    "    idens = framework.log(inputs = inputs,outputs=prediction)\n",
    "    if framework.version > 1:\n",
    "        break\n"
   ]
  },
  {
   "cell_type": "code",
   "execution_count": 41,
   "metadata": {},
   "outputs": [
    {
     "name": "stdout",
     "output_type": "stream",
     "text": [
      "(1, 28, 28, 1)\n"
     ]
    }
   ],
   "source": [
    "\n"
   ]
  },
  {
   "cell_type": "code",
   "execution_count": null,
   "metadata": {},
   "outputs": [],
   "source": []
  }
 ],
 "metadata": {
  "kernelspec": {
   "display_name": "tensorflow",
   "language": "python",
   "name": "python3"
  },
  "language_info": {
   "codemirror_mode": {
    "name": "ipython",
    "version": 3
   },
   "file_extension": ".py",
   "mimetype": "text/x-python",
   "name": "python",
   "nbconvert_exporter": "python",
   "pygments_lexer": "ipython3",
   "version": "3.10.9"
  },
  "orig_nbformat": 4,
  "vscode": {
   "interpreter": {
    "hash": "56e7482a3c2baa4ac188a45f40cb11c54b747173fcf5d0b1bc5237d40a90529c"
   }
  }
 },
 "nbformat": 4,
 "nbformat_minor": 2
}
